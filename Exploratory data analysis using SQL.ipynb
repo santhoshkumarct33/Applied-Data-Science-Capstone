{
    "cells": [
        {
            "cell_type": "markdown",
            "metadata": {},
            "source": "<center>\n    <img src=\"https://gitlab.com/ibm/skills-network/courses/placeholder101/-/raw/master/labs/module%201/images/IDSNlogo.png\"  width=\"300\" alt=\"cognitiveclass.ai logo\"  />\n</center>\n\n<h1 align=center><font size = 5>Assignment: SQL Notebook for Peer Assignment</font></h1>\n\nEstimated time needed: **60** minutes.\n\n## Introduction\n\nUsing this Python notebook you will:\n\n1.  Understand the Spacex DataSet\n2.  Load the dataset  into the corresponding table in a Db2 database\n3.  Execute SQL queries to answer assignment questions\n"
        },
        {
            "cell_type": "markdown",
            "metadata": {},
            "source": "## Overview of the DataSet\n\nSpaceX has gained worldwide attention for a series of historic milestones.\n\nIt is the only private company ever to return a spacecraft from low-earth orbit, which it first accomplished in December 2010.\nSpaceX advertises Falcon 9 rocket launches on its website with a cost of 62 million dollars wheras other providers cost upward of 165 million dollars each, much of the savings is because Space X can reuse the first stage.\n\nTherefore if we can determine if the first stage will land, we can determine the cost of a launch.\n\nThis information can be used if an alternate company wants to bid against SpaceX for a rocket launch.\n\nThis dataset includes a record for each payload carried during a SpaceX mission into outer space.\n"
        },
        {
            "cell_type": "markdown",
            "metadata": {},
            "source": "### Download the datasets\n\nThis assignment requires you to load the spacex dataset.\n\nIn many cases the dataset to be analyzed is available as a .CSV (comma separated values) file, perhaps on the internet. Click on the link below to download and save the dataset (.CSV file):\n\n<a href=\"https://cf-courses-data.s3.us.cloud-object-storage.appdomain.cloud/IBM-DS0321EN-SkillsNetwork/labs/module_2/data/Spacex.csv?utm_medium=Exinfluencer&utm_source=Exinfluencer&utm_content=000026UJ&utm_term=10006555&utm_id=NA-SkillsNetwork-Channel-SkillsNetworkCoursesIBMDS0321ENSkillsNetwork26802033-2021-01-01\" target=\"_blank\">Spacex DataSet</a>\n"
        },
        {
            "cell_type": "markdown",
            "metadata": {},
            "source": "### Store the dataset in database table\n\n**it is highly recommended to manually load the table using the database console LOAD tool in DB2**.\n\n<img src = \"https://cf-courses-data.s3.us.cloud-object-storage.appdomain.cloud/IBM-DS0321EN-SkillsNetwork/labs/module_2/images/spacexload.png\">\n\nNow open the Db2 console, open the LOAD tool, Select / Drag the .CSV file for the  dataset, Next create a New Table, and then follow the steps on-screen instructions to load the data. Name the new table as follows:\n\n**SPACEXDATASET**\n\n**Follow these steps while using old DB2 UI which is having Open Console Screen**\n\n**Note:While loading Spacex dataset, ensure that detect datatypes is disabled. Later click on the pencil icon(edit option).**\n\n1.  Change the Date Format by manually typing DD-MM-YYYY and timestamp format as DD-MM-YYYY HH\\:MM:SS.\n\n    Here you should place the cursor at Date field and manually type as DD-MM-YYYY.\n\n2.  Change the PAYLOAD_MASS\\_\\_KG\\_  datatype  to INTEGER.\n\n<img src = \"https://cf-courses-data.s3.us.cloud-object-storage.appdomain.cloud/IBM-DS0321EN-SkillsNetwork/labs/module_2/images/spacexload2.png\">\n"
        },
        {
            "cell_type": "markdown",
            "metadata": {},
            "source": "**Changes to be considered when having DB2 instance with the new UI having Go to UI screen**\n\n*   Refer to this insruction in this <a href=\"https://cf-courses-data.s3.us.cloud-object-storage.appdomain.cloud/IBMDeveloperSkillsNetwork-DB0201EN-SkillsNetwork/labs/Labs_Coursera_V5/labs/Lab%20-%20Sign%20up%20for%20IBM%20Cloud%20-%20Create%20Db2%20service%20instance%20-%20Get%20started%20with%20the%20Db2%20console/instructional-labs.md.html?utm_medium=Exinfluencer&utm_source=Exinfluencer&utm_content=000026UJ&utm_term=10006555&utm_id=NA-SkillsNetwork-Channel-SkillsNetworkCoursesIBMDS0321ENSkillsNetwork26802033-2021-01-01\">link</a> for viewing  the new  Go to UI screen.\n\n*   Later click on **Data link(below SQL)**  in the Go to UI screen  and click on **Load Data** tab.\n\n*   Later browse for the downloaded spacex file.\n\n<img src=\"https://cf-courses-data.s3.us.cloud-object-storage.appdomain.cloud/IBM-DS0321EN-SkillsNetwork/labs/module_2/images/browsefile.png\" width=\"800\"/>\n\n*   Once done select the schema andload the file.\n\n <img src=\"https://cf-courses-data.s3.us.cloud-object-storage.appdomain.cloud/IBM-DS0321EN-SkillsNetwork/labs/module_2/images/spacexload3.png\" width=\"800\"/>\n"
        },
        {
            "cell_type": "code",
            "execution_count": 4,
            "metadata": {},
            "outputs": [
                {
                    "name": "stdout",
                    "output_type": "stream",
                    "text": "Requirement already satisfied: sqlalchemy==1.3.9 in /opt/conda/envs/Python-3.8-main/lib/python3.8/site-packages (1.3.9)\nRequirement already satisfied: ibm_db_sa in /opt/conda/envs/Python-3.8-main/lib/python3.8/site-packages (0.3.7)\nRequirement already satisfied: ibm-db>=2.0.0 in /opt/conda/envs/Python-3.8-main/lib/python3.8/site-packages (from ibm_db_sa) (3.0.4)\nRequirement already satisfied: sqlalchemy>=0.7.3 in /opt/conda/envs/Python-3.8-main/lib/python3.8/site-packages (from ibm_db_sa) (1.3.9)\nRequirement already satisfied: ibm_db in /opt/conda/envs/Python-3.8-main/lib/python3.8/site-packages (3.0.4)\nRequirement already satisfied: ipython-sql in /opt/conda/envs/Python-3.8-main/lib/python3.8/site-packages (0.4.0)\nRequirement already satisfied: six in /opt/conda/envs/Python-3.8-main/lib/python3.8/site-packages (from ipython-sql) (1.15.0)\nRequirement already satisfied: ipython-genutils>=0.1.0 in /opt/conda/envs/Python-3.8-main/lib/python3.8/site-packages (from ipython-sql) (0.2.0)\nRequirement already satisfied: sqlalchemy>=0.6.7 in /opt/conda/envs/Python-3.8-main/lib/python3.8/site-packages (from ipython-sql) (1.3.9)\nRequirement already satisfied: ipython>=1.0 in /opt/conda/envs/Python-3.8-main/lib/python3.8/site-packages (from ipython-sql) (7.27.0)\nRequirement already satisfied: prettytable<1 in /opt/conda/envs/Python-3.8-main/lib/python3.8/site-packages (from ipython-sql) (0.7.2)\nRequirement already satisfied: sqlparse in /opt/conda/envs/Python-3.8-main/lib/python3.8/site-packages (from ipython-sql) (0.4.2)\nRequirement already satisfied: prompt-toolkit!=3.0.0,!=3.0.1,<3.1.0,>=2.0.0 in /opt/conda/envs/Python-3.8-main/lib/python3.8/site-packages (from ipython>=1.0->ipython-sql) (3.0.20)\nRequirement already satisfied: matplotlib-inline in /opt/conda/envs/Python-3.8-main/lib/python3.8/site-packages (from ipython>=1.0->ipython-sql) (0.1.2)\nRequirement already satisfied: pexpect>4.3 in /opt/conda/envs/Python-3.8-main/lib/python3.8/site-packages (from ipython>=1.0->ipython-sql) (4.8.0)\nRequirement already satisfied: decorator in /opt/conda/envs/Python-3.8-main/lib/python3.8/site-packages (from ipython>=1.0->ipython-sql) (5.0.9)\nRequirement already satisfied: jedi>=0.16 in /opt/conda/envs/Python-3.8-main/lib/python3.8/site-packages (from ipython>=1.0->ipython-sql) (0.17.2)\nRequirement already satisfied: pygments in /opt/conda/envs/Python-3.8-main/lib/python3.8/site-packages (from ipython>=1.0->ipython-sql) (2.9.0)\nRequirement already satisfied: traitlets>=4.2 in /opt/conda/envs/Python-3.8-main/lib/python3.8/site-packages (from ipython>=1.0->ipython-sql) (5.0.5)\nRequirement already satisfied: pickleshare in /opt/conda/envs/Python-3.8-main/lib/python3.8/site-packages (from ipython>=1.0->ipython-sql) (0.7.5)\nRequirement already satisfied: setuptools>=18.5 in /opt/conda/envs/Python-3.8-main/lib/python3.8/site-packages (from ipython>=1.0->ipython-sql) (52.0.0.post20211006)\nRequirement already satisfied: backcall in /opt/conda/envs/Python-3.8-main/lib/python3.8/site-packages (from ipython>=1.0->ipython-sql) (0.2.0)\nRequirement already satisfied: parso<0.8.0,>=0.7.0 in /opt/conda/envs/Python-3.8-main/lib/python3.8/site-packages (from jedi>=0.16->ipython>=1.0->ipython-sql) (0.7.0)\nRequirement already satisfied: ptyprocess>=0.5 in /opt/conda/envs/Python-3.8-main/lib/python3.8/site-packages (from pexpect>4.3->ipython>=1.0->ipython-sql) (0.7.0)\nRequirement already satisfied: wcwidth in /opt/conda/envs/Python-3.8-main/lib/python3.8/site-packages (from prompt-toolkit!=3.0.0,!=3.0.1,<3.1.0,>=2.0.0->ipython>=1.0->ipython-sql) (0.2.5)\n"
                }
            ],
            "source": "!pip install sqlalchemy==1.3.9\n!pip install ibm_db_sa\n!pip install ibm_db\n!pip install ipython-sql"
        },
        {
            "cell_type": "markdown",
            "metadata": {},
            "source": "### Connect to the database\n\nLet us first load the SQL extension and establish a connection with the database\n"
        },
        {
            "cell_type": "code",
            "execution_count": 5,
            "metadata": {},
            "outputs": [
                {
                    "name": "stdout",
                    "output_type": "stream",
                    "text": "The sql extension is already loaded. To reload it, use:\n  %reload_ext sql\n"
                }
            ],
            "source": "%load_ext sql"
        },
        {
            "cell_type": "markdown",
            "metadata": {},
            "source": "**DB2 magic in case of old UI service credentials.**\n\nIn the next cell enter your db2 connection string. Recall you created Service Credentials for your Db2 instance before. From the **uri** field of your Db2 service credentials copy everything after db2:// (except the double quote at the end) and paste it in the cell below after ibm_db_sa://\n\n<img src =\"https://cf-courses-data.s3.us.cloud-object-storage.appdomain.cloud/IBMDeveloperSkillsNetwork-DB0201EN-SkillsNetwork/labs/FinalModule_edX/images/URI.jpg\">\n\nin the following format\n\n**%sql ibm_db_sa://my-username:my-password\\@my-hostname:my-port/my-db-name**\n\n**DB2 magic in case of new UI service credentials.**\n\n<img src =\"https://cf-courses-data.s3.us.cloud-object-storage.appdomain.cloud/IBM-DS0321EN-SkillsNetwork/labs/module_2/images/servicecredentials.png\" width=600>  \n\n*   Use the following format.\n\n*   Add security=SSL at the end\n\n**%sql ibm_db_sa://my-username:my-password\\@my-hostname:my-port/my-db-name?security=SSL**\n"
        },
        {
            "cell_type": "code",
            "execution_count": 6,
            "metadata": {},
            "outputs": [],
            "source": "%sql ibm_db_sa:"
        },
        {
            "cell_type": "code",
            "execution_count": 8,
            "metadata": {},
            "outputs": [
                {
                    "name": "stdout",
                    "output_type": "stream",
                    "text": "Connected to database:  bludb as user:  gdp97706 on host:  0c77d6f2-5da9-48a9-81f8-86b520b87518.bs2io90l08kqb1od8lcg.databases.appdomain.cloud\n"
                }
            ],
            "source": "import ibm_db\ndsn_hostname = \"0c77d6f2-5da9-48a9-81f8-86b520b87518.bs2io90l08kqb1od8lcg.databases.appdomain.cloud\" # e.g.: \"54a2f15b-5c0f-46df-8954-7e38e612c2bd.c1ogj3sd0tgtu0lqde00.databases.appdomain.cloud\"\ndsn_uid = \"gdp97706\"        # e.g. \"abc12345\"\ndsn_pwd = \"mDtKgmS48iChqQ1N\"      # e.g. \"7dBZ3wWt9XN6$o0J\"\ndsn_driver = \"{IBM DB2 ODBC DRIVER}\"\ndsn_database = \"bludb\"            # e.g. \"BLUDB\"\ndsn_port = \"31198\"                # e.g. \"32733\" \ndsn_protocol = \"TCPIP\"            # i.e. \"TCPIP\"\ndsn_security = \"SSL\"              #i.e. \"SSL\"\n\ndsn = (\n    \"DRIVER={0};\"\n    \"DATABASE={1};\"\n    \"HOSTNAME={2};\"\n    \"PORT={3};\"\n    \"PROTOCOL={4};\"\n    \"UID={5};\"\n    \"PWD={6};\"\n    \"SECURITY={7};\").format(dsn_driver, dsn_database, dsn_hostname, dsn_port, dsn_protocol, dsn_uid, dsn_pwd,dsn_security)\n\ntry:\n    conn = ibm_db.connect(dsn, \"\", \"\")\n    print (\"Connected to database: \", dsn_database, \"as user: \", dsn_uid, \"on host: \", dsn_hostname)\n\nexcept:\n    print (\"Unable to connect: \", ibm_db.conn_errormsg() )\n\n#sql = ibm_db.exec_immediate(conn, \"SELECT * FROM SPACEXTBL\")\n#stmt = ibm_db.exec_immediate(conn, sql)"
        },
        {
            "cell_type": "code",
            "execution_count": 8,
            "metadata": {},
            "outputs": [],
            "source": "%sql ibm_db_sa://"
        },
        {
            "cell_type": "markdown",
            "metadata": {},
            "source": "## Tasks\n\nNow write and execute SQL queries to solve the assignment tasks.\n\n### Task 1\n\n##### Display the names of the unique launch sites  in the space mission\n"
        },
        {
            "cell_type": "code",
            "execution_count": 16,
            "metadata": {},
            "outputs": [
                {
                    "data": {
                        "text/html": "<div>\n<style scoped>\n    .dataframe tbody tr th:only-of-type {\n        vertical-align: middle;\n    }\n\n    .dataframe tbody tr th {\n        vertical-align: top;\n    }\n\n    .dataframe thead th {\n        text-align: right;\n    }\n</style>\n<table border=\"1\" class=\"dataframe\">\n  <thead>\n    <tr style=\"text-align: right;\">\n      <th></th>\n      <th>LAUNCH_SITE</th>\n    </tr>\n  </thead>\n  <tbody>\n    <tr>\n      <th>0</th>\n      <td>CCAFS LC-40</td>\n    </tr>\n    <tr>\n      <th>1</th>\n      <td>CCAFS SLC-40</td>\n    </tr>\n    <tr>\n      <th>2</th>\n      <td>KSC LC-39A</td>\n    </tr>\n    <tr>\n      <th>3</th>\n      <td>VAFB SLC-4E</td>\n    </tr>\n  </tbody>\n</table>\n</div>",
                        "text/plain": "    LAUNCH_SITE\n0   CCAFS LC-40\n1  CCAFS SLC-40\n2    KSC LC-39A\n3   VAFB SLC-4E"
                    },
                    "execution_count": 16,
                    "metadata": {},
                    "output_type": "execute_result"
                }
            ],
            "source": "import pandas\nimport ibm_db_dbi\n\n#connection for pandas\npconn = ibm_db_dbi.Connection(conn)\n\nquery1 = \"SELECT DISTINCT LAUNCH_SITE FROM SPACEXTBL\"\npdf = pandas.read_sql(query1, pconn)\npdf"
        },
        {
            "cell_type": "markdown",
            "metadata": {},
            "source": "### Task 2\n\n##### Display 5 records where launch sites begin with the string 'CCA'\n"
        },
        {
            "cell_type": "code",
            "execution_count": 58,
            "metadata": {},
            "outputs": [
                {
                    "data": {
                        "text/html": "<div>\n<style scoped>\n    .dataframe tbody tr th:only-of-type {\n        vertical-align: middle;\n    }\n\n    .dataframe tbody tr th {\n        vertical-align: top;\n    }\n\n    .dataframe thead th {\n        text-align: right;\n    }\n</style>\n<table border=\"1\" class=\"dataframe\">\n  <thead>\n    <tr style=\"text-align: right;\">\n      <th></th>\n      <th>DATE</th>\n      <th>TIME__UTC_</th>\n      <th>BOOSTER_VERSION</th>\n      <th>LAUNCH_SITE</th>\n      <th>PAYLOAD</th>\n      <th>PAYLOAD_MASS__KG_</th>\n      <th>ORBIT</th>\n      <th>CUSTOMER</th>\n      <th>MISSION_OUTCOME</th>\n      <th>LANDING__OUTCOME</th>\n    </tr>\n  </thead>\n  <tbody>\n    <tr>\n      <th>0</th>\n      <td>2010-06-04</td>\n      <td>18:45:00</td>\n      <td>F9 v1.0  B0003</td>\n      <td>CCAFS LC-40</td>\n      <td>Dragon Spacecraft Qualification Unit</td>\n      <td>0</td>\n      <td>LEO</td>\n      <td>SpaceX</td>\n      <td>Success</td>\n      <td>Failure (parachute)</td>\n    </tr>\n    <tr>\n      <th>1</th>\n      <td>2010-12-08</td>\n      <td>15:43:00</td>\n      <td>F9 v1.0  B0004</td>\n      <td>CCAFS LC-40</td>\n      <td>Dragon demo flight C1, two CubeSats, barrel of...</td>\n      <td>0</td>\n      <td>LEO (ISS)</td>\n      <td>NASA (COTS) NRO</td>\n      <td>Success</td>\n      <td>Failure (parachute)</td>\n    </tr>\n    <tr>\n      <th>2</th>\n      <td>2012-05-22</td>\n      <td>07:44:00</td>\n      <td>F9 v1.0  B0005</td>\n      <td>CCAFS LC-40</td>\n      <td>Dragon demo flight C2</td>\n      <td>525</td>\n      <td>LEO (ISS)</td>\n      <td>NASA (COTS)</td>\n      <td>Success</td>\n      <td>No attempt</td>\n    </tr>\n    <tr>\n      <th>3</th>\n      <td>2012-10-08</td>\n      <td>00:35:00</td>\n      <td>F9 v1.0  B0006</td>\n      <td>CCAFS LC-40</td>\n      <td>SpaceX CRS-1</td>\n      <td>500</td>\n      <td>LEO (ISS)</td>\n      <td>NASA (CRS)</td>\n      <td>Success</td>\n      <td>No attempt</td>\n    </tr>\n    <tr>\n      <th>4</th>\n      <td>2013-03-01</td>\n      <td>15:10:00</td>\n      <td>F9 v1.0  B0007</td>\n      <td>CCAFS LC-40</td>\n      <td>SpaceX CRS-2</td>\n      <td>677</td>\n      <td>LEO (ISS)</td>\n      <td>NASA (CRS)</td>\n      <td>Success</td>\n      <td>No attempt</td>\n    </tr>\n  </tbody>\n</table>\n</div>",
                        "text/plain": "         DATE TIME__UTC_ BOOSTER_VERSION  LAUNCH_SITE  \\\n0  2010-06-04   18:45:00  F9 v1.0  B0003  CCAFS LC-40   \n1  2010-12-08   15:43:00  F9 v1.0  B0004  CCAFS LC-40   \n2  2012-05-22   07:44:00  F9 v1.0  B0005  CCAFS LC-40   \n3  2012-10-08   00:35:00  F9 v1.0  B0006  CCAFS LC-40   \n4  2013-03-01   15:10:00  F9 v1.0  B0007  CCAFS LC-40   \n\n                                             PAYLOAD  PAYLOAD_MASS__KG_  \\\n0               Dragon Spacecraft Qualification Unit                  0   \n1  Dragon demo flight C1, two CubeSats, barrel of...                  0   \n2                              Dragon demo flight C2                525   \n3                                       SpaceX CRS-1                500   \n4                                       SpaceX CRS-2                677   \n\n       ORBIT         CUSTOMER MISSION_OUTCOME     LANDING__OUTCOME  \n0        LEO           SpaceX         Success  Failure (parachute)  \n1  LEO (ISS)  NASA (COTS) NRO         Success  Failure (parachute)  \n2  LEO (ISS)      NASA (COTS)         Success           No attempt  \n3  LEO (ISS)       NASA (CRS)         Success           No attempt  \n4  LEO (ISS)       NASA (CRS)         Success           No attempt  "
                    },
                    "execution_count": 58,
                    "metadata": {},
                    "output_type": "execute_result"
                }
            ],
            "source": "query2 = \"SELECT * FROM SPACEXTBL WHERE LAUNCH_SITE LIKE '%CCA%' LIMIT 5\"\npdf = pandas.read_sql(query2, pconn)\npdf"
        },
        {
            "cell_type": "markdown",
            "metadata": {},
            "source": "### Task 3\n\n##### Display the total payload mass carried by boosters launched by NASA (CRS)\n"
        },
        {
            "cell_type": "code",
            "execution_count": 42,
            "metadata": {},
            "outputs": [
                {
                    "data": {
                        "text/html": "<div>\n<style scoped>\n    .dataframe tbody tr th:only-of-type {\n        vertical-align: middle;\n    }\n\n    .dataframe tbody tr th {\n        vertical-align: top;\n    }\n\n    .dataframe thead th {\n        text-align: right;\n    }\n</style>\n<table border=\"1\" class=\"dataframe\">\n  <thead>\n    <tr style=\"text-align: right;\">\n      <th></th>\n      <th>BOOSTER_VERSION</th>\n      <th>2</th>\n    </tr>\n  </thead>\n  <tbody>\n    <tr>\n      <th>0</th>\n      <td>F9 B4  B1039.2</td>\n      <td>2647</td>\n    </tr>\n    <tr>\n      <th>1</th>\n      <td>F9 B4  B1040.2</td>\n      <td>5384</td>\n    </tr>\n    <tr>\n      <th>2</th>\n      <td>F9 B4  B1041.2</td>\n      <td>9600</td>\n    </tr>\n    <tr>\n      <th>3</th>\n      <td>F9 B4  B1043.2</td>\n      <td>6460</td>\n    </tr>\n    <tr>\n      <th>4</th>\n      <td>F9 B4 B1039.1</td>\n      <td>3310</td>\n    </tr>\n    <tr>\n      <th>...</th>\n      <td>...</td>\n      <td>...</td>\n    </tr>\n    <tr>\n      <th>92</th>\n      <td>F9 v1.1 B1014</td>\n      <td>4159</td>\n    </tr>\n    <tr>\n      <th>93</th>\n      <td>F9 v1.1 B1015</td>\n      <td>1898</td>\n    </tr>\n    <tr>\n      <th>94</th>\n      <td>F9 v1.1 B1016</td>\n      <td>4707</td>\n    </tr>\n    <tr>\n      <th>95</th>\n      <td>F9 v1.1 B1017</td>\n      <td>553</td>\n    </tr>\n    <tr>\n      <th>96</th>\n      <td>F9 v1.1 B1018</td>\n      <td>1952</td>\n    </tr>\n  </tbody>\n</table>\n<p>97 rows \u00d7 2 columns</p>\n</div>",
                        "text/plain": "   BOOSTER_VERSION     2\n0   F9 B4  B1039.2  2647\n1   F9 B4  B1040.2  5384\n2   F9 B4  B1041.2  9600\n3   F9 B4  B1043.2  6460\n4    F9 B4 B1039.1  3310\n..             ...   ...\n92   F9 v1.1 B1014  4159\n93   F9 v1.1 B1015  1898\n94   F9 v1.1 B1016  4707\n95   F9 v1.1 B1017   553\n96   F9 v1.1 B1018  1952\n\n[97 rows x 2 columns]"
                    },
                    "execution_count": 42,
                    "metadata": {},
                    "output_type": "execute_result"
                }
            ],
            "source": "query3 = \"SELECT BOOSTER_VERSION,SUM(PAYLOAD_MASS__KG_) FROM SPACEXTBL GROUP BY BOOSTER_VERSION \"\npdf = pandas.read_sql(query3, pconn)\npdf"
        },
        {
            "cell_type": "markdown",
            "metadata": {},
            "source": "### Task 4\n\n##### Display average payload mass carried by booster version F9 v1.1\n"
        },
        {
            "cell_type": "code",
            "execution_count": 54,
            "metadata": {},
            "outputs": [
                {
                    "data": {
                        "text/html": "<div>\n<style scoped>\n    .dataframe tbody tr th:only-of-type {\n        vertical-align: middle;\n    }\n\n    .dataframe tbody tr th {\n        vertical-align: top;\n    }\n\n    .dataframe thead th {\n        text-align: right;\n    }\n</style>\n<table border=\"1\" class=\"dataframe\">\n  <thead>\n    <tr style=\"text-align: right;\">\n      <th></th>\n      <th>1</th>\n    </tr>\n  </thead>\n  <tbody>\n    <tr>\n      <th>0</th>\n      <td>2534</td>\n    </tr>\n  </tbody>\n</table>\n</div>",
                        "text/plain": "      1\n0  2534"
                    },
                    "execution_count": 54,
                    "metadata": {},
                    "output_type": "execute_result"
                }
            ],
            "source": "query4 = \"SELECT AVG(PAYLOAD_MASS__KG_) FROM SPACEXTBL WHERE BOOSTER_VERSION LIKE '%F9 v1.1%'\"\npdf = pandas.read_sql(query4, pconn)\npdf"
        },
        {
            "cell_type": "markdown",
            "metadata": {},
            "source": "### Task 5\n\n##### List the date when the first successful landing outcome in ground pad was acheived.\n\n*Hint:Use min function*\n"
        },
        {
            "cell_type": "code",
            "execution_count": 70,
            "metadata": {},
            "outputs": [
                {
                    "data": {
                        "text/html": "<div>\n<style scoped>\n    .dataframe tbody tr th:only-of-type {\n        vertical-align: middle;\n    }\n\n    .dataframe tbody tr th {\n        vertical-align: top;\n    }\n\n    .dataframe thead th {\n        text-align: right;\n    }\n</style>\n<table border=\"1\" class=\"dataframe\">\n  <thead>\n    <tr style=\"text-align: right;\">\n      <th></th>\n      <th>1</th>\n    </tr>\n  </thead>\n  <tbody>\n    <tr>\n      <th>0</th>\n      <td>2018-07-22</td>\n    </tr>\n  </tbody>\n</table>\n</div>",
                        "text/plain": "            1\n0  2018-07-22"
                    },
                    "execution_count": 70,
                    "metadata": {},
                    "output_type": "execute_result"
                }
            ],
            "source": "query5 = \"SELECT MIN(DATE) FROM SPACEXTBL WHERE LANDING__OUTCOME LIKE 'Success'\"\npdf = pandas.read_sql(query5, pconn)\npdf"
        },
        {
            "cell_type": "markdown",
            "metadata": {},
            "source": "### Task 6\n\n##### List the names of the boosters which have success in drone ship and have payload mass greater than 4000 but less than 6000\n"
        },
        {
            "cell_type": "code",
            "execution_count": 94,
            "metadata": {
                "scrolled": true
            },
            "outputs": [
                {
                    "data": {
                        "text/html": "<div>\n<style scoped>\n    .dataframe tbody tr th:only-of-type {\n        vertical-align: middle;\n    }\n\n    .dataframe tbody tr th {\n        vertical-align: top;\n    }\n\n    .dataframe thead th {\n        text-align: right;\n    }\n</style>\n<table border=\"1\" class=\"dataframe\">\n  <thead>\n    <tr style=\"text-align: right;\">\n      <th></th>\n      <th>BOOSTER_VERSION</th>\n    </tr>\n  </thead>\n  <tbody>\n    <tr>\n      <th>0</th>\n      <td>F9 FT B1022</td>\n    </tr>\n    <tr>\n      <th>1</th>\n      <td>F9 FT B1026</td>\n    </tr>\n    <tr>\n      <th>2</th>\n      <td>F9 FT  B1021.2</td>\n    </tr>\n    <tr>\n      <th>3</th>\n      <td>F9 FT  B1031.2</td>\n    </tr>\n  </tbody>\n</table>\n</div>",
                        "text/plain": "  BOOSTER_VERSION\n0     F9 FT B1022\n1     F9 FT B1026\n2  F9 FT  B1021.2\n3  F9 FT  B1031.2"
                    },
                    "execution_count": 94,
                    "metadata": {},
                    "output_type": "execute_result"
                }
            ],
            "source": "query6 = \"SELECT BOOSTER_VERSION FROM SPACEXTBL WHERE PAYLOAD_MASS__KG_\t BETWEEN 4000 AND 6000 AND LANDING__OUTCOME LIKE '%Success (drone ship)%' \"\npdf = pandas.read_sql(query6, pconn)\npdf"
        },
        {
            "cell_type": "markdown",
            "metadata": {},
            "source": "### Task 7\n\n##### List the total number of successful and failure mission outcomes\n"
        },
        {
            "cell_type": "code",
            "execution_count": 77,
            "metadata": {},
            "outputs": [
                {
                    "data": {
                        "text/html": "<div>\n<style scoped>\n    .dataframe tbody tr th:only-of-type {\n        vertical-align: middle;\n    }\n\n    .dataframe tbody tr th {\n        vertical-align: top;\n    }\n\n    .dataframe thead th {\n        text-align: right;\n    }\n</style>\n<table border=\"1\" class=\"dataframe\">\n  <thead>\n    <tr style=\"text-align: right;\">\n      <th></th>\n      <th>MISSION_OUTCOME</th>\n      <th>2</th>\n    </tr>\n  </thead>\n  <tbody>\n    <tr>\n      <th>0</th>\n      <td>Failure (in flight)</td>\n      <td>1</td>\n    </tr>\n    <tr>\n      <th>1</th>\n      <td>Success</td>\n      <td>99</td>\n    </tr>\n    <tr>\n      <th>2</th>\n      <td>Success (payload status unclear)</td>\n      <td>1</td>\n    </tr>\n  </tbody>\n</table>\n</div>",
                        "text/plain": "                    MISSION_OUTCOME   2\n0               Failure (in flight)   1\n1                           Success  99\n2  Success (payload status unclear)   1"
                    },
                    "execution_count": 77,
                    "metadata": {},
                    "output_type": "execute_result"
                }
            ],
            "source": "query7 = \"SELECT MISSION_OUTCOME,COUNT(MISSION_OUTCOME) FROM SPACEXTBL GROUP BY MISSION_OUTCOME\"\npdf = pandas.read_sql(query7, pconn)\npdf"
        },
        {
            "cell_type": "markdown",
            "metadata": {},
            "source": "### Task 8\n\n##### List the   names of the booster_versions which have carried the maximum payload mass. Use a subquery\n"
        },
        {
            "cell_type": "code",
            "execution_count": 82,
            "metadata": {},
            "outputs": [
                {
                    "data": {
                        "text/html": "<div>\n<style scoped>\n    .dataframe tbody tr th:only-of-type {\n        vertical-align: middle;\n    }\n\n    .dataframe tbody tr th {\n        vertical-align: top;\n    }\n\n    .dataframe thead th {\n        text-align: right;\n    }\n</style>\n<table border=\"1\" class=\"dataframe\">\n  <thead>\n    <tr style=\"text-align: right;\">\n      <th></th>\n      <th>BOOSTER_VERSION</th>\n      <th>PAYLOAD_MASS__KG_</th>\n    </tr>\n  </thead>\n  <tbody>\n    <tr>\n      <th>0</th>\n      <td>F9 B5 B1048.4</td>\n      <td>15600</td>\n    </tr>\n    <tr>\n      <th>1</th>\n      <td>F9 B5 B1049.4</td>\n      <td>15600</td>\n    </tr>\n    <tr>\n      <th>2</th>\n      <td>F9 B5 B1051.3</td>\n      <td>15600</td>\n    </tr>\n    <tr>\n      <th>3</th>\n      <td>F9 B5 B1056.4</td>\n      <td>15600</td>\n    </tr>\n    <tr>\n      <th>4</th>\n      <td>F9 B5 B1048.5</td>\n      <td>15600</td>\n    </tr>\n    <tr>\n      <th>5</th>\n      <td>F9 B5 B1051.4</td>\n      <td>15600</td>\n    </tr>\n    <tr>\n      <th>6</th>\n      <td>F9 B5 B1049.5</td>\n      <td>15600</td>\n    </tr>\n    <tr>\n      <th>7</th>\n      <td>F9 B5 B1060.2</td>\n      <td>15600</td>\n    </tr>\n    <tr>\n      <th>8</th>\n      <td>F9 B5 B1058.3</td>\n      <td>15600</td>\n    </tr>\n    <tr>\n      <th>9</th>\n      <td>F9 B5 B1051.6</td>\n      <td>15600</td>\n    </tr>\n    <tr>\n      <th>10</th>\n      <td>F9 B5 B1060.3</td>\n      <td>15600</td>\n    </tr>\n    <tr>\n      <th>11</th>\n      <td>F9 B5 B1049.7</td>\n      <td>15600</td>\n    </tr>\n  </tbody>\n</table>\n</div>",
                        "text/plain": "   BOOSTER_VERSION  PAYLOAD_MASS__KG_\n0    F9 B5 B1048.4              15600\n1    F9 B5 B1049.4              15600\n2    F9 B5 B1051.3              15600\n3    F9 B5 B1056.4              15600\n4    F9 B5 B1048.5              15600\n5    F9 B5 B1051.4              15600\n6    F9 B5 B1049.5              15600\n7    F9 B5 B1060.2              15600\n8    F9 B5 B1058.3              15600\n9    F9 B5 B1051.6              15600\n10   F9 B5 B1060.3              15600\n11   F9 B5 B1049.7              15600"
                    },
                    "execution_count": 82,
                    "metadata": {},
                    "output_type": "execute_result"
                }
            ],
            "source": "query8 = \"SELECT BOOSTER_VERSION,PAYLOAD_MASS__KG_ FROM SPACEXTBL WHERE PAYLOAD_MASS__KG_ LIKE '15600'\"\npdf = pandas.read_sql(query8, pconn)\npdf"
        },
        {
            "cell_type": "markdown",
            "metadata": {},
            "source": "### Task 9\n\n##### List the failed landing_outcomes in drone ship, their booster versions, and launch site names for in year 2015\n"
        },
        {
            "cell_type": "code",
            "execution_count": 91,
            "metadata": {},
            "outputs": [
                {
                    "data": {
                        "text/html": "<div>\n<style scoped>\n    .dataframe tbody tr th:only-of-type {\n        vertical-align: middle;\n    }\n\n    .dataframe tbody tr th {\n        vertical-align: top;\n    }\n\n    .dataframe thead th {\n        text-align: right;\n    }\n</style>\n<table border=\"1\" class=\"dataframe\">\n  <thead>\n    <tr style=\"text-align: right;\">\n      <th></th>\n      <th>DATE</th>\n      <th>TIME__UTC_</th>\n      <th>BOOSTER_VERSION</th>\n      <th>LAUNCH_SITE</th>\n      <th>PAYLOAD</th>\n      <th>PAYLOAD_MASS__KG_</th>\n      <th>ORBIT</th>\n      <th>CUSTOMER</th>\n      <th>MISSION_OUTCOME</th>\n      <th>LANDING__OUTCOME</th>\n    </tr>\n  </thead>\n  <tbody>\n    <tr>\n      <th>0</th>\n      <td>2015-01-10</td>\n      <td>09:47:00</td>\n      <td>F9 v1.1 B1012</td>\n      <td>CCAFS LC-40</td>\n      <td>SpaceX CRS-5</td>\n      <td>2395</td>\n      <td>LEO (ISS)</td>\n      <td>NASA (CRS)</td>\n      <td>Success</td>\n      <td>Failure (drone ship)</td>\n    </tr>\n    <tr>\n      <th>1</th>\n      <td>2015-04-14</td>\n      <td>20:10:00</td>\n      <td>F9 v1.1 B1015</td>\n      <td>CCAFS LC-40</td>\n      <td>SpaceX CRS-6</td>\n      <td>1898</td>\n      <td>LEO (ISS)</td>\n      <td>NASA (CRS)</td>\n      <td>Success</td>\n      <td>Failure (drone ship)</td>\n    </tr>\n  </tbody>\n</table>\n</div>",
                        "text/plain": "         DATE TIME__UTC_ BOOSTER_VERSION  LAUNCH_SITE       PAYLOAD  \\\n0  2015-01-10   09:47:00   F9 v1.1 B1012  CCAFS LC-40  SpaceX CRS-5   \n1  2015-04-14   20:10:00   F9 v1.1 B1015  CCAFS LC-40  SpaceX CRS-6   \n\n   PAYLOAD_MASS__KG_      ORBIT    CUSTOMER MISSION_OUTCOME  \\\n0               2395  LEO (ISS)  NASA (CRS)         Success   \n1               1898  LEO (ISS)  NASA (CRS)         Success   \n\n       LANDING__OUTCOME  \n0  Failure (drone ship)  \n1  Failure (drone ship)  "
                    },
                    "execution_count": 91,
                    "metadata": {},
                    "output_type": "execute_result"
                }
            ],
            "source": "query9 = \"SELECT * FROM SPACEXTBL WHERE LANDING__OUTCOME LIKE '%Failure (drone ship)%' AND DATE LIKE '%2015%'\"\npdf = pandas.read_sql(query9, pconn)\npdf"
        },
        {
            "cell_type": "markdown",
            "metadata": {},
            "source": "### Task 10\n\n##### Rank the count of landing outcomes (such as Failure (drone ship) or Success (ground pad)) between the date 2010-06-04 and 2017-03-20, in descending order\n"
        },
        {
            "cell_type": "code",
            "execution_count": 98,
            "metadata": {},
            "outputs": [
                {
                    "data": {
                        "text/html": "<div>\n<style scoped>\n    .dataframe tbody tr th:only-of-type {\n        vertical-align: middle;\n    }\n\n    .dataframe tbody tr th {\n        vertical-align: top;\n    }\n\n    .dataframe thead th {\n        text-align: right;\n    }\n</style>\n<table border=\"1\" class=\"dataframe\">\n  <thead>\n    <tr style=\"text-align: right;\">\n      <th></th>\n      <th>LANDING__OUTCOME</th>\n      <th>2</th>\n    </tr>\n  </thead>\n  <tbody>\n    <tr>\n      <th>0</th>\n      <td>Controlled (ocean)</td>\n      <td>3</td>\n    </tr>\n    <tr>\n      <th>1</th>\n      <td>Failure (drone ship)</td>\n      <td>5</td>\n    </tr>\n    <tr>\n      <th>2</th>\n      <td>Failure (parachute)</td>\n      <td>2</td>\n    </tr>\n    <tr>\n      <th>3</th>\n      <td>No attempt</td>\n      <td>10</td>\n    </tr>\n    <tr>\n      <th>4</th>\n      <td>Precluded (drone ship)</td>\n      <td>1</td>\n    </tr>\n    <tr>\n      <th>5</th>\n      <td>Success (drone ship)</td>\n      <td>5</td>\n    </tr>\n    <tr>\n      <th>6</th>\n      <td>Success (ground pad)</td>\n      <td>3</td>\n    </tr>\n    <tr>\n      <th>7</th>\n      <td>Uncontrolled (ocean)</td>\n      <td>2</td>\n    </tr>\n  </tbody>\n</table>\n</div>",
                        "text/plain": "         LANDING__OUTCOME   2\n0      Controlled (ocean)   3\n1    Failure (drone ship)   5\n2     Failure (parachute)   2\n3              No attempt  10\n4  Precluded (drone ship)   1\n5    Success (drone ship)   5\n6    Success (ground pad)   3\n7    Uncontrolled (ocean)   2"
                    },
                    "execution_count": 98,
                    "metadata": {},
                    "output_type": "execute_result"
                }
            ],
            "source": "query10 = \"SELECT LANDING__OUTCOME,COUNT(LANDING__OUTCOME) FROM SPACEXTBL WHERE DATE BETWEEN '2010-06-04' AND '2017-03-20' GROUP BY LANDING__OUTCOME \"\npdf = pandas.read_sql(query10, pconn)\npdf"
        },
        {
            "cell_type": "markdown",
            "metadata": {},
            "source": "### Reference Links\n\n*   <a href =\"https://cf-courses-data.s3.us.cloud-object-storage.appdomain.cloud/IBMDeveloperSkillsNetwork-DB0201EN-SkillsNetwork/labs/Labs_Coursera_V5/labs/Lab%20-%20String%20Patterns%20-%20Sorting%20-%20Grouping/instructional-labs.md.html?utm_medium=Exinfluencer&utm_source=Exinfluencer&utm_content=000026UJ&utm_term=10006555&utm_id=NA-SkillsNetwork-Channel-SkillsNetworkCoursesIBMDS0321ENSkillsNetwork26802033-2021-01-01&origin=www.coursera.org\">Hands-on Lab : String Patterns, Sorting and Grouping</a>\n\n*   <a  href=\"https://cf-courses-data.s3.us.cloud-object-storage.appdomain.cloud/IBMDeveloperSkillsNetwork-DB0201EN-SkillsNetwork/labs/Labs_Coursera_V5/labs/Lab%20-%20Built-in%20functions%20/Hands-on_Lab__Built-in_Functions.md.html?utm_medium=Exinfluencer&utm_source=Exinfluencer&utm_content=000026UJ&utm_term=10006555&utm_id=NA-SkillsNetwork-Channel-SkillsNetworkCoursesIBMDS0321ENSkillsNetwork26802033-2021-01-01&origin=www.coursera.org\">Hands-on Lab: Built-in functions</a>\n\n*   <a  href=\"https://cf-courses-data.s3.us.cloud-object-storage.appdomain.cloud/IBMDeveloperSkillsNetwork-DB0201EN-SkillsNetwork/labs/Labs_Coursera_V5/labs/Lab%20-%20Sub-queries%20and%20Nested%20SELECTs%20/instructional-labs.md.html?utm_medium=Exinfluencer&utm_source=Exinfluencer&utm_content=000026UJ&utm_term=10006555&utm_id=NA-SkillsNetwork-Channel-SkillsNetworkCoursesIBMDS0321ENSkillsNetwork26802033-2021-01-01&origin=www.coursera.org\">Hands-on Lab : Sub-queries and Nested SELECT Statements</a>\n\n*   <a href=\"https://cf-courses-data.s3.us.cloud-object-storage.appdomain.cloud/IBMDeveloperSkillsNetwork-DB0201EN-SkillsNetwork/labs/Module%205/DB0201EN-Week3-1-3-SQLmagic.ipynb?utm_medium=Exinfluencer&utm_source=Exinfluencer&utm_content=000026UJ&utm_term=10006555&utm_id=NA-SkillsNetwork-Channel-SkillsNetworkCoursesIBMDS0321ENSkillsNetwork26802033-2021-01-01\">Hands-on Tutorial: Accessing Databases with SQL magic</a>\n\n*   <a href= \"https://cf-courses-data.s3.us.cloud-object-storage.appdomain.cloud/IBMDeveloperSkillsNetwork-DB0201EN-SkillsNetwork/labs/Module%205/DB0201EN-Week3-1-4-Analyzing.ipynb?utm_medium=Exinfluencer&utm_source=Exinfluencer&utm_content=000026UJ&utm_term=10006555&utm_id=NA-SkillsNetwork-Channel-SkillsNetworkCoursesIBMDS0321ENSkillsNetwork26802033-2021-01-01\">Hands-on Lab: Analyzing a real World Data Set</a>\n"
        },
        {
            "cell_type": "markdown",
            "metadata": {},
            "source": "## Author(s)\n\n<h4> Lakshmi Holla </h4>\n"
        },
        {
            "cell_type": "markdown",
            "metadata": {},
            "source": "## Other Contributors\n\n<h4> Rav Ahuja </h4>\n"
        },
        {
            "cell_type": "markdown",
            "metadata": {},
            "source": "## Change log\n\n| Date       | Version | Changed by    | Change Description        |\n| ---------- | ------- | ------------- | ------------------------- |\n| 2021-10-12 | 0.4     | Lakshmi Holla | Changed markdown          |\n| 2021-08-24 | 0.3     | Lakshmi Holla | Added library update      |\n| 2021-07-09 | 0.2     | Lakshmi Holla | Changes made in magic sql |\n| 2021-05-20 | 0.1     | Lakshmi Holla | Created Initial Version   |\n"
        },
        {
            "cell_type": "markdown",
            "metadata": {},
            "source": "## <h3 align=\"center\"> \u00a9 IBM Corporation 2021. All rights reserved. <h3/>\n"
        }
    ],
    "metadata": {
        "kernelspec": {
            "display_name": "Python 3.8",
            "language": "python",
            "name": "python3"
        },
        "language_info": {
            "codemirror_mode": {
                "name": "ipython",
                "version": 3
            },
            "file_extension": ".py",
            "mimetype": "text/x-python",
            "name": "python",
            "nbconvert_exporter": "python",
            "pygments_lexer": "ipython3",
            "version": "3.8.12"
        }
    },
    "nbformat": 4,
    "nbformat_minor": 4
}